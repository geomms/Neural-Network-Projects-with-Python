{
 "cells": [
  {
   "cell_type": "code",
   "execution_count": 1,
   "metadata": {},
   "outputs": [],
   "source": [
    "import pandas as pd\n",
    "df=pd.read_csv('diabetes.csv')"
   ]
  },
  {
   "cell_type": "code",
   "execution_count": 2,
   "metadata": {},
   "outputs": [
    {
     "data": {
      "text/html": [
       "<div>\n",
       "<style scoped>\n",
       "    .dataframe tbody tr th:only-of-type {\n",
       "        vertical-align: middle;\n",
       "    }\n",
       "\n",
       "    .dataframe tbody tr th {\n",
       "        vertical-align: top;\n",
       "    }\n",
       "\n",
       "    .dataframe thead th {\n",
       "        text-align: right;\n",
       "    }\n",
       "</style>\n",
       "<table border=\"1\" class=\"dataframe\">\n",
       "  <thead>\n",
       "    <tr style=\"text-align: right;\">\n",
       "      <th></th>\n",
       "      <th>Pregnancies</th>\n",
       "      <th>Glucose</th>\n",
       "      <th>BloodPressure</th>\n",
       "      <th>SkinThickness</th>\n",
       "      <th>Insulin</th>\n",
       "      <th>BMI</th>\n",
       "      <th>DiabetesPedigreeFunction</th>\n",
       "      <th>Age</th>\n",
       "      <th>Outcome</th>\n",
       "    </tr>\n",
       "  </thead>\n",
       "  <tbody>\n",
       "    <tr>\n",
       "      <th>0</th>\n",
       "      <td>6</td>\n",
       "      <td>148</td>\n",
       "      <td>72</td>\n",
       "      <td>35</td>\n",
       "      <td>0</td>\n",
       "      <td>33.6</td>\n",
       "      <td>0.627</td>\n",
       "      <td>50</td>\n",
       "      <td>1</td>\n",
       "    </tr>\n",
       "    <tr>\n",
       "      <th>1</th>\n",
       "      <td>1</td>\n",
       "      <td>85</td>\n",
       "      <td>66</td>\n",
       "      <td>29</td>\n",
       "      <td>0</td>\n",
       "      <td>26.6</td>\n",
       "      <td>0.351</td>\n",
       "      <td>31</td>\n",
       "      <td>0</td>\n",
       "    </tr>\n",
       "    <tr>\n",
       "      <th>2</th>\n",
       "      <td>8</td>\n",
       "      <td>183</td>\n",
       "      <td>64</td>\n",
       "      <td>0</td>\n",
       "      <td>0</td>\n",
       "      <td>23.3</td>\n",
       "      <td>0.672</td>\n",
       "      <td>32</td>\n",
       "      <td>1</td>\n",
       "    </tr>\n",
       "    <tr>\n",
       "      <th>3</th>\n",
       "      <td>1</td>\n",
       "      <td>89</td>\n",
       "      <td>66</td>\n",
       "      <td>23</td>\n",
       "      <td>94</td>\n",
       "      <td>28.1</td>\n",
       "      <td>0.167</td>\n",
       "      <td>21</td>\n",
       "      <td>0</td>\n",
       "    </tr>\n",
       "    <tr>\n",
       "      <th>4</th>\n",
       "      <td>0</td>\n",
       "      <td>137</td>\n",
       "      <td>40</td>\n",
       "      <td>35</td>\n",
       "      <td>168</td>\n",
       "      <td>43.1</td>\n",
       "      <td>2.288</td>\n",
       "      <td>33</td>\n",
       "      <td>1</td>\n",
       "    </tr>\n",
       "  </tbody>\n",
       "</table>\n",
       "</div>"
      ],
      "text/plain": [
       "   Pregnancies  Glucose  BloodPressure  SkinThickness  Insulin   BMI  \\\n",
       "0            6      148             72             35        0  33.6   \n",
       "1            1       85             66             29        0  26.6   \n",
       "2            8      183             64              0        0  23.3   \n",
       "3            1       89             66             23       94  28.1   \n",
       "4            0      137             40             35      168  43.1   \n",
       "\n",
       "   DiabetesPedigreeFunction  Age  Outcome  \n",
       "0                     0.627   50        1  \n",
       "1                     0.351   31        0  \n",
       "2                     0.672   32        1  \n",
       "3                     0.167   21        0  \n",
       "4                     2.288   33        1  "
      ]
     },
     "execution_count": 2,
     "metadata": {},
     "output_type": "execute_result"
    }
   ],
   "source": [
    "df.head()"
   ]
  },
  {
   "cell_type": "code",
   "execution_count": 5,
   "metadata": {},
   "outputs": [],
   "source": [
    "from matplotlib import pyplot as plt"
   ]
  },
  {
   "cell_type": "code",
   "execution_count": 6,
   "metadata": {},
   "outputs": [
    {
     "data": {
      "image/png": "[encoded data removed]",
      "text/plain": [
       "<Figure size 432x288 with 9 Axes>"
      ]
     },
     "metadata": {
      "needs_background": "light"
     },
     "output_type": "display_data"
    }
   ],
   "source": [
    "df.hist()\n",
    "plt.show()"
   ]
  },
  {
   "cell_type": "code",
   "execution_count": 7,
   "metadata": {},
   "outputs": [],
   "source": [
    "import seaborn as sns"
   ]
  },
  {
   "cell_type": "code",
   "execution_count": 11,
   "metadata": {
    "scrolled": false
   },
   "outputs": [
    {
     "ename": "RuntimeError",
     "evalue": "Selected KDE bandwidth is 0. Cannot estimate density.",
     "output_type": "error",
     "traceback": [
      "\u001b[1;31m---------------------------------------------------------------------------\u001b[0m",
      "\u001b[1;31mValueError\u001b[0m                                Traceback (most recent call last)",
      "\u001b[1;32m~\\Anaconda3\\envs\\learn-env\\lib\\site-packages\\statsmodels\\nonparametric\\kde.py\u001b[0m in \u001b[0;36mkdensityfft\u001b[1;34m(X, kernel, bw, weights, gridsize, adjust, clip, cut, retgrid)\u001b[0m\n\u001b[0;32m    450\u001b[0m     \u001b[1;32mtry\u001b[0m\u001b[1;33m:\u001b[0m\u001b[1;33m\u001b[0m\u001b[1;33m\u001b[0m\u001b[0m\n\u001b[1;32m--> 451\u001b[1;33m         \u001b[0mbw\u001b[0m \u001b[1;33m=\u001b[0m \u001b[0mfloat\u001b[0m\u001b[1;33m(\u001b[0m\u001b[0mbw\u001b[0m\u001b[1;33m)\u001b[0m\u001b[1;33m\u001b[0m\u001b[1;33m\u001b[0m\u001b[0m\n\u001b[0m\u001b[0;32m    452\u001b[0m     \u001b[1;32mexcept\u001b[0m\u001b[1;33m:\u001b[0m\u001b[1;33m\u001b[0m\u001b[1;33m\u001b[0m\u001b[0m\n",
      "\u001b[1;31mValueError\u001b[0m: could not convert string to float: 'scott'",
      "\nDuring handling of the above exception, another exception occurred:\n",
      "\u001b[1;31mRuntimeError\u001b[0m                              Traceback (most recent call last)",
      "\u001b[1;32m<ipython-input-11-45a642f813e9>\u001b[0m in \u001b[0;36m<module>\u001b[1;34m\u001b[0m\n\u001b[0;32m      7\u001b[0m     \u001b[0max\u001b[0m\u001b[1;33m.\u001b[0m\u001b[0myaxis\u001b[0m\u001b[1;33m.\u001b[0m\u001b[0mset_ticklabels\u001b[0m\u001b[1;33m(\u001b[0m\u001b[1;33m[\u001b[0m\u001b[1;33m]\u001b[0m\u001b[1;33m)\u001b[0m\u001b[1;33m\u001b[0m\u001b[1;33m\u001b[0m\u001b[0m\n\u001b[0;32m      8\u001b[0m     sns.distplot(df.loc[df.Outcome==0][col],hist=False,axlabel=False,kde_kws={'linestyle':'-','color':'black',\n\u001b[1;32m----> 9\u001b[1;33m                                                                               'label':\"No Diabetes\"})\n\u001b[0m\u001b[0;32m     10\u001b[0m     sns.distplot(df.loc[df.Outcome==1][col],hist=False,axlabel=False,kde_kws={'linestyle':'--','color':'black',\n\u001b[0;32m     11\u001b[0m                                                                               'label':\"Diabetes\"})\n",
      "\u001b[1;32m~\\Anaconda3\\envs\\learn-env\\lib\\site-packages\\seaborn\\distributions.py\u001b[0m in \u001b[0;36mdistplot\u001b[1;34m(a, bins, hist, kde, rug, fit, hist_kws, kde_kws, rug_kws, fit_kws, color, vertical, norm_hist, axlabel, label, ax)\u001b[0m\n\u001b[0;32m    229\u001b[0m     \u001b[1;32mif\u001b[0m \u001b[0mkde\u001b[0m\u001b[1;33m:\u001b[0m\u001b[1;33m\u001b[0m\u001b[1;33m\u001b[0m\u001b[0m\n\u001b[0;32m    230\u001b[0m         \u001b[0mkde_color\u001b[0m \u001b[1;33m=\u001b[0m \u001b[0mkde_kws\u001b[0m\u001b[1;33m.\u001b[0m\u001b[0mpop\u001b[0m\u001b[1;33m(\u001b[0m\u001b[1;34m\"color\"\u001b[0m\u001b[1;33m,\u001b[0m \u001b[0mcolor\u001b[0m\u001b[1;33m)\u001b[0m\u001b[1;33m\u001b[0m\u001b[1;33m\u001b[0m\u001b[0m\n\u001b[1;32m--> 231\u001b[1;33m         \u001b[0mkdeplot\u001b[0m\u001b[1;33m(\u001b[0m\u001b[0ma\u001b[0m\u001b[1;33m,\u001b[0m \u001b[0mvertical\u001b[0m\u001b[1;33m=\u001b[0m\u001b[0mvertical\u001b[0m\u001b[1;33m,\u001b[0m \u001b[0max\u001b[0m\u001b[1;33m=\u001b[0m\u001b[0max\u001b[0m\u001b[1;33m,\u001b[0m \u001b[0mcolor\u001b[0m\u001b[1;33m=\u001b[0m\u001b[0mkde_color\u001b[0m\u001b[1;33m,\u001b[0m \u001b[1;33m**\u001b[0m\u001b[0mkde_kws\u001b[0m\u001b[1;33m)\u001b[0m\u001b[1;33m\u001b[0m\u001b[1;33m\u001b[0m\u001b[0m\n\u001b[0m\u001b[0;32m    232\u001b[0m         \u001b[1;32mif\u001b[0m \u001b[0mkde_color\u001b[0m \u001b[1;33m!=\u001b[0m \u001b[0mcolor\u001b[0m\u001b[1;33m:\u001b[0m\u001b[1;33m\u001b[0m\u001b[1;33m\u001b[0m\u001b[0m\n\u001b[0;32m    233\u001b[0m             \u001b[0mkde_kws\u001b[0m\u001b[1;33m[\u001b[0m\u001b[1;34m\"color\"\u001b[0m\u001b[1;33m]\u001b[0m \u001b[1;33m=\u001b[0m \u001b[0mkde_color\u001b[0m\u001b[1;33m\u001b[0m\u001b[1;33m\u001b[0m\u001b[0m\n",
      "\u001b[1;32m~\\Anaconda3\\envs\\learn-env\\lib\\site-packages\\seaborn\\distributions.py\u001b[0m in \u001b[0;36mkdeplot\u001b[1;34m(data, data2, shade, vertical, kernel, bw, gridsize, cut, clip, legend, cumulative, shade_lowest, cbar, cbar_ax, cbar_kws, ax, **kwargs)\u001b[0m\n\u001b[0;32m    689\u001b[0m         ax = _univariate_kdeplot(data, shade, vertical, kernel, bw,\n\u001b[0;32m    690\u001b[0m                                  \u001b[0mgridsize\u001b[0m\u001b[1;33m,\u001b[0m \u001b[0mcut\u001b[0m\u001b[1;33m,\u001b[0m \u001b[0mclip\u001b[0m\u001b[1;33m,\u001b[0m \u001b[0mlegend\u001b[0m\u001b[1;33m,\u001b[0m \u001b[0max\u001b[0m\u001b[1;33m,\u001b[0m\u001b[1;33m\u001b[0m\u001b[1;33m\u001b[0m\u001b[0m\n\u001b[1;32m--> 691\u001b[1;33m                                  cumulative=cumulative, **kwargs)\n\u001b[0m\u001b[0;32m    692\u001b[0m \u001b[1;33m\u001b[0m\u001b[0m\n\u001b[0;32m    693\u001b[0m     \u001b[1;32mreturn\u001b[0m \u001b[0max\u001b[0m\u001b[1;33m\u001b[0m\u001b[1;33m\u001b[0m\u001b[0m\n",
      "\u001b[1;32m~\\Anaconda3\\envs\\learn-env\\lib\\site-packages\\seaborn\\distributions.py\u001b[0m in \u001b[0;36m_univariate_kdeplot\u001b[1;34m(data, shade, vertical, kernel, bw, gridsize, cut, clip, legend, ax, cumulative, **kwargs)\u001b[0m\n\u001b[0;32m    281\u001b[0m         x, y = _statsmodels_univariate_kde(data, kernel, bw,\n\u001b[0;32m    282\u001b[0m                                            \u001b[0mgridsize\u001b[0m\u001b[1;33m,\u001b[0m \u001b[0mcut\u001b[0m\u001b[1;33m,\u001b[0m \u001b[0mclip\u001b[0m\u001b[1;33m,\u001b[0m\u001b[1;33m\u001b[0m\u001b[1;33m\u001b[0m\u001b[0m\n\u001b[1;32m--> 283\u001b[1;33m                                            cumulative=cumulative)\n\u001b[0m\u001b[0;32m    284\u001b[0m     \u001b[1;32melse\u001b[0m\u001b[1;33m:\u001b[0m\u001b[1;33m\u001b[0m\u001b[1;33m\u001b[0m\u001b[0m\n\u001b[0;32m    285\u001b[0m         \u001b[1;31m# Fall back to scipy if missing statsmodels\u001b[0m\u001b[1;33m\u001b[0m\u001b[1;33m\u001b[0m\u001b[1;33m\u001b[0m\u001b[0m\n",
      "\u001b[1;32m~\\Anaconda3\\envs\\learn-env\\lib\\site-packages\\seaborn\\distributions.py\u001b[0m in \u001b[0;36m_statsmodels_univariate_kde\u001b[1;34m(data, kernel, bw, gridsize, cut, clip, cumulative)\u001b[0m\n\u001b[0;32m    353\u001b[0m     \u001b[0mfft\u001b[0m \u001b[1;33m=\u001b[0m \u001b[0mkernel\u001b[0m \u001b[1;33m==\u001b[0m \u001b[1;34m\"gau\"\u001b[0m\u001b[1;33m\u001b[0m\u001b[1;33m\u001b[0m\u001b[0m\n\u001b[0;32m    354\u001b[0m     \u001b[0mkde\u001b[0m \u001b[1;33m=\u001b[0m \u001b[0msmnp\u001b[0m\u001b[1;33m.\u001b[0m\u001b[0mKDEUnivariate\u001b[0m\u001b[1;33m(\u001b[0m\u001b[0mdata\u001b[0m\u001b[1;33m)\u001b[0m\u001b[1;33m\u001b[0m\u001b[1;33m\u001b[0m\u001b[0m\n\u001b[1;32m--> 355\u001b[1;33m     \u001b[0mkde\u001b[0m\u001b[1;33m.\u001b[0m\u001b[0mfit\u001b[0m\u001b[1;33m(\u001b[0m\u001b[0mkernel\u001b[0m\u001b[1;33m,\u001b[0m \u001b[0mbw\u001b[0m\u001b[1;33m,\u001b[0m \u001b[0mfft\u001b[0m\u001b[1;33m,\u001b[0m \u001b[0mgridsize\u001b[0m\u001b[1;33m=\u001b[0m\u001b[0mgridsize\u001b[0m\u001b[1;33m,\u001b[0m \u001b[0mcut\u001b[0m\u001b[1;33m=\u001b[0m\u001b[0mcut\u001b[0m\u001b[1;33m,\u001b[0m \u001b[0mclip\u001b[0m\u001b[1;33m=\u001b[0m\u001b[0mclip\u001b[0m\u001b[1;33m)\u001b[0m\u001b[1;33m\u001b[0m\u001b[1;33m\u001b[0m\u001b[0m\n\u001b[0m\u001b[0;32m    356\u001b[0m     \u001b[1;32mif\u001b[0m \u001b[0mcumulative\u001b[0m\u001b[1;33m:\u001b[0m\u001b[1;33m\u001b[0m\u001b[1;33m\u001b[0m\u001b[0m\n\u001b[0;32m    357\u001b[0m         \u001b[0mgrid\u001b[0m\u001b[1;33m,\u001b[0m \u001b[0my\u001b[0m \u001b[1;33m=\u001b[0m \u001b[0mkde\u001b[0m\u001b[1;33m.\u001b[0m\u001b[0msupport\u001b[0m\u001b[1;33m,\u001b[0m \u001b[0mkde\u001b[0m\u001b[1;33m.\u001b[0m\u001b[0mcdf\u001b[0m\u001b[1;33m\u001b[0m\u001b[1;33m\u001b[0m\u001b[0m\n",
      "\u001b[1;32m~\\Anaconda3\\envs\\learn-env\\lib\\site-packages\\statsmodels\\nonparametric\\kde.py\u001b[0m in \u001b[0;36mfit\u001b[1;34m(self, kernel, bw, fft, weights, gridsize, adjust, cut, clip)\u001b[0m\n\u001b[0;32m    138\u001b[0m             density, grid, bw = kdensityfft(endog, kernel=kernel, bw=bw,\n\u001b[0;32m    139\u001b[0m                     \u001b[0madjust\u001b[0m\u001b[1;33m=\u001b[0m\u001b[0madjust\u001b[0m\u001b[1;33m,\u001b[0m \u001b[0mweights\u001b[0m\u001b[1;33m=\u001b[0m\u001b[0mweights\u001b[0m\u001b[1;33m,\u001b[0m \u001b[0mgridsize\u001b[0m\u001b[1;33m=\u001b[0m\u001b[0mgridsize\u001b[0m\u001b[1;33m,\u001b[0m\u001b[1;33m\u001b[0m\u001b[1;33m\u001b[0m\u001b[0m\n\u001b[1;32m--> 140\u001b[1;33m                     clip=clip, cut=cut)\n\u001b[0m\u001b[0;32m    141\u001b[0m         \u001b[1;32melse\u001b[0m\u001b[1;33m:\u001b[0m\u001b[1;33m\u001b[0m\u001b[1;33m\u001b[0m\u001b[0m\n\u001b[0;32m    142\u001b[0m             density, grid, bw = kdensity(endog, kernel=kernel, bw=bw,\n",
      "\u001b[1;32m~\\Anaconda3\\envs\\learn-env\\lib\\site-packages\\statsmodels\\nonparametric\\kde.py\u001b[0m in \u001b[0;36mkdensityfft\u001b[1;34m(X, kernel, bw, weights, gridsize, adjust, clip, cut, retgrid)\u001b[0m\n\u001b[0;32m    451\u001b[0m         \u001b[0mbw\u001b[0m \u001b[1;33m=\u001b[0m \u001b[0mfloat\u001b[0m\u001b[1;33m(\u001b[0m\u001b[0mbw\u001b[0m\u001b[1;33m)\u001b[0m\u001b[1;33m\u001b[0m\u001b[1;33m\u001b[0m\u001b[0m\n\u001b[0;32m    452\u001b[0m     \u001b[1;32mexcept\u001b[0m\u001b[1;33m:\u001b[0m\u001b[1;33m\u001b[0m\u001b[1;33m\u001b[0m\u001b[0m\n\u001b[1;32m--> 453\u001b[1;33m         \u001b[0mbw\u001b[0m \u001b[1;33m=\u001b[0m \u001b[0mbandwidths\u001b[0m\u001b[1;33m.\u001b[0m\u001b[0mselect_bandwidth\u001b[0m\u001b[1;33m(\u001b[0m\u001b[0mX\u001b[0m\u001b[1;33m,\u001b[0m \u001b[0mbw\u001b[0m\u001b[1;33m,\u001b[0m \u001b[0mkern\u001b[0m\u001b[1;33m)\u001b[0m \u001b[1;31m# will cross-val fit this pattern?\u001b[0m\u001b[1;33m\u001b[0m\u001b[1;33m\u001b[0m\u001b[0m\n\u001b[0m\u001b[0;32m    454\u001b[0m     \u001b[0mbw\u001b[0m \u001b[1;33m*=\u001b[0m \u001b[0madjust\u001b[0m\u001b[1;33m\u001b[0m\u001b[1;33m\u001b[0m\u001b[0m\n\u001b[0;32m    455\u001b[0m \u001b[1;33m\u001b[0m\u001b[0m\n",
      "\u001b[1;32m~\\Anaconda3\\envs\\learn-env\\lib\\site-packages\\statsmodels\\nonparametric\\bandwidths.py\u001b[0m in \u001b[0;36mselect_bandwidth\u001b[1;34m(x, bw, kernel)\u001b[0m\n\u001b[0;32m    172\u001b[0m         \u001b[1;31m# eventually this can fall back on another selection criterion.\u001b[0m\u001b[1;33m\u001b[0m\u001b[1;33m\u001b[0m\u001b[1;33m\u001b[0m\u001b[0m\n\u001b[0;32m    173\u001b[0m         \u001b[0merr\u001b[0m \u001b[1;33m=\u001b[0m \u001b[1;34m\"Selected KDE bandwidth is 0. Cannot estimate density.\"\u001b[0m\u001b[1;33m\u001b[0m\u001b[1;33m\u001b[0m\u001b[0m\n\u001b[1;32m--> 174\u001b[1;33m         \u001b[1;32mraise\u001b[0m \u001b[0mRuntimeError\u001b[0m\u001b[1;33m(\u001b[0m\u001b[0merr\u001b[0m\u001b[1;33m)\u001b[0m\u001b[1;33m\u001b[0m\u001b[1;33m\u001b[0m\u001b[0m\n\u001b[0m\u001b[0;32m    175\u001b[0m     \u001b[1;32melse\u001b[0m\u001b[1;33m:\u001b[0m\u001b[1;33m\u001b[0m\u001b[1;33m\u001b[0m\u001b[0m\n\u001b[0;32m    176\u001b[0m         \u001b[1;32mreturn\u001b[0m \u001b[0mbandwidth\u001b[0m\u001b[1;33m\u001b[0m\u001b[1;33m\u001b[0m\u001b[0m\n",
      "\u001b[1;31mRuntimeError\u001b[0m: Selected KDE bandwidth is 0. Cannot estimate density."
     ]
    },
    {
     "data": {
      "image/png": "[encoded data removed]",
      "text/plain": [
       "<Figure size 1080x1080 with 9 Axes>"
      ]
     },
     "metadata": {
      "needs_background": "light"
     },
     "output_type": "display_data"
    }
   ],
   "source": [
    "# creating subplot of 3x3\n",
    "plt.subplots(3,3,figsize=(15,15))\n",
    "\n",
    "# Plot density function for each variable\n",
    "for idx, col in enumerate(df.columns):\n",
    "    ax = plt.subplot(3,3,idx+1)\n",
    "    ax.yaxis.set_ticklabels([])\n",
    "    sns.distplot(df.loc[df.Outcome==0][col],hist=False,axlabel=False,kde_kws={'linestyle':'-','color':'black',\n",
    "                                                                              'label':\"No Diabetes\"})\n",
    "    sns.distplot(df.loc[df.Outcome==1][col],hist=False,axlabel=False,kde_kws={'linestyle':'--','color':'black',\n",
    "                                                                              'label':\"Diabetes\"})\n",
    "    ax.set_title(col)\n",
    "\n",
    "plt.subplot(3,3,9).set_visible(False)\n",
    "plt.show()\n",
    "    "
   ]
  },
  {
   "cell_type": "code",
   "execution_count": 13,
   "metadata": {},
   "outputs": [
    {
     "data": {
      "text/plain": [
       "Pregnancies                 False\n",
       "Glucose                     False\n",
       "BloodPressure               False\n",
       "SkinThickness               False\n",
       "Insulin                     False\n",
       "BMI                         False\n",
       "DiabetesPedigreeFunction    False\n",
       "Age                         False\n",
       "Outcome                     False\n",
       "dtype: bool"
      ]
     },
     "execution_count": 13,
     "metadata": {},
     "output_type": "execute_result"
    }
   ],
   "source": [
    "df.isnull().any()"
   ]
  },
  {
   "cell_type": "code",
   "execution_count": 14,
   "metadata": {},
   "outputs": [
    {
     "data": {
      "text/html": [
       "<div>\n",
       "<style scoped>\n",
       "    .dataframe tbody tr th:only-of-type {\n",
       "        vertical-align: middle;\n",
       "    }\n",
       "\n",
       "    .dataframe tbody tr th {\n",
       "        vertical-align: top;\n",
       "    }\n",
       "\n",
       "    .dataframe thead th {\n",
       "        text-align: right;\n",
       "    }\n",
       "</style>\n",
       "<table border=\"1\" class=\"dataframe\">\n",
       "  <thead>\n",
       "    <tr style=\"text-align: right;\">\n",
       "      <th></th>\n",
       "      <th>Pregnancies</th>\n",
       "      <th>Glucose</th>\n",
       "      <th>BloodPressure</th>\n",
       "      <th>SkinThickness</th>\n",
       "      <th>Insulin</th>\n",
       "      <th>BMI</th>\n",
       "      <th>DiabetesPedigreeFunction</th>\n",
       "      <th>Age</th>\n",
       "      <th>Outcome</th>\n",
       "    </tr>\n",
       "  </thead>\n",
       "  <tbody>\n",
       "    <tr>\n",
       "      <th>count</th>\n",
       "      <td>768.000000</td>\n",
       "      <td>768.000000</td>\n",
       "      <td>768.000000</td>\n",
       "      <td>768.000000</td>\n",
       "      <td>768.000000</td>\n",
       "      <td>768.000000</td>\n",
       "      <td>768.000000</td>\n",
       "      <td>768.000000</td>\n",
       "      <td>768.000000</td>\n",
       "    </tr>\n",
       "    <tr>\n",
       "      <th>mean</th>\n",
       "      <td>3.845052</td>\n",
       "      <td>120.894531</td>\n",
       "      <td>69.105469</td>\n",
       "      <td>20.536458</td>\n",
       "      <td>79.799479</td>\n",
       "      <td>31.992578</td>\n",
       "      <td>0.471876</td>\n",
       "      <td>33.240885</td>\n",
       "      <td>0.348958</td>\n",
       "    </tr>\n",
       "    <tr>\n",
       "      <th>std</th>\n",
       "      <td>3.369578</td>\n",
       "      <td>31.972618</td>\n",
       "      <td>19.355807</td>\n",
       "      <td>15.952218</td>\n",
       "      <td>115.244002</td>\n",
       "      <td>7.884160</td>\n",
       "      <td>0.331329</td>\n",
       "      <td>11.760232</td>\n",
       "      <td>0.476951</td>\n",
       "    </tr>\n",
       "    <tr>\n",
       "      <th>min</th>\n",
       "      <td>0.000000</td>\n",
       "      <td>0.000000</td>\n",
       "      <td>0.000000</td>\n",
       "      <td>0.000000</td>\n",
       "      <td>0.000000</td>\n",
       "      <td>0.000000</td>\n",
       "      <td>0.078000</td>\n",
       "      <td>21.000000</td>\n",
       "      <td>0.000000</td>\n",
       "    </tr>\n",
       "    <tr>\n",
       "      <th>25%</th>\n",
       "      <td>1.000000</td>\n",
       "      <td>99.000000</td>\n",
       "      <td>62.000000</td>\n",
       "      <td>0.000000</td>\n",
       "      <td>0.000000</td>\n",
       "      <td>27.300000</td>\n",
       "      <td>0.243750</td>\n",
       "      <td>24.000000</td>\n",
       "      <td>0.000000</td>\n",
       "    </tr>\n",
       "    <tr>\n",
       "      <th>50%</th>\n",
       "      <td>3.000000</td>\n",
       "      <td>117.000000</td>\n",
       "      <td>72.000000</td>\n",
       "      <td>23.000000</td>\n",
       "      <td>30.500000</td>\n",
       "      <td>32.000000</td>\n",
       "      <td>0.372500</td>\n",
       "      <td>29.000000</td>\n",
       "      <td>0.000000</td>\n",
       "    </tr>\n",
       "    <tr>\n",
       "      <th>75%</th>\n",
       "      <td>6.000000</td>\n",
       "      <td>140.250000</td>\n",
       "      <td>80.000000</td>\n",
       "      <td>32.000000</td>\n",
       "      <td>127.250000</td>\n",
       "      <td>36.600000</td>\n",
       "      <td>0.626250</td>\n",
       "      <td>41.000000</td>\n",
       "      <td>1.000000</td>\n",
       "    </tr>\n",
       "    <tr>\n",
       "      <th>max</th>\n",
       "      <td>17.000000</td>\n",
       "      <td>199.000000</td>\n",
       "      <td>122.000000</td>\n",
       "      <td>99.000000</td>\n",
       "      <td>846.000000</td>\n",
       "      <td>67.100000</td>\n",
       "      <td>2.420000</td>\n",
       "      <td>81.000000</td>\n",
       "      <td>1.000000</td>\n",
       "    </tr>\n",
       "  </tbody>\n",
       "</table>\n",
       "</div>"
      ],
      "text/plain": [
       "       Pregnancies     Glucose  BloodPressure  SkinThickness     Insulin  \\\n",
       "count   768.000000  768.000000     768.000000     768.000000  768.000000   \n",
       "mean      3.845052  120.894531      69.105469      20.536458   79.799479   \n",
       "std       3.369578   31.972618      19.355807      15.952218  115.244002   \n",
       "min       0.000000    0.000000       0.000000       0.000000    0.000000   \n",
       "25%       1.000000   99.000000      62.000000       0.000000    0.000000   \n",
       "50%       3.000000  117.000000      72.000000      23.000000   30.500000   \n",
       "75%       6.000000  140.250000      80.000000      32.000000  127.250000   \n",
       "max      17.000000  199.000000     122.000000      99.000000  846.000000   \n",
       "\n",
       "              BMI  DiabetesPedigreeFunction         Age     Outcome  \n",
       "count  768.000000                768.000000  768.000000  768.000000  \n",
       "mean    31.992578                  0.471876   33.240885    0.348958  \n",
       "std      7.884160                  0.331329   11.760232    0.476951  \n",
       "min      0.000000                  0.078000   21.000000    0.000000  \n",
       "25%     27.300000                  0.243750   24.000000    0.000000  \n",
       "50%     32.000000                  0.372500   29.000000    0.000000  \n",
       "75%     36.600000                  0.626250   41.000000    1.000000  \n",
       "max     67.100000                  2.420000   81.000000    1.000000  "
      ]
     },
     "execution_count": 14,
     "metadata": {},
     "output_type": "execute_result"
    }
   ],
   "source": [
    "df.describe()"
   ]
  },
  {
   "cell_type": "code",
   "execution_count": 15,
   "metadata": {},
   "outputs": [
    {
     "name": "stdout",
     "output_type": "stream",
     "text": [
      "Number of rows with 0 values for each variable\n",
      "Pregnancies: 111\n",
      "Glucose: 5\n",
      "BloodPressure: 35\n",
      "SkinThickness: 227\n",
      "Insulin: 374\n",
      "BMI: 11\n",
      "DiabetesPedigreeFunction: 0\n",
      "Age: 0\n",
      "Outcome: 500\n"
     ]
    }
   ],
   "source": [
    "print('Number of rows with 0 values for each variable')\n",
    "for col in df.columns:\n",
    "    missing_rows = df.loc[df[col]==0].shape[0]\n",
    "    print(col+\": \"+str(missing_rows))"
   ]
  },
  {
   "cell_type": "code",
   "execution_count": 16,
   "metadata": {},
   "outputs": [],
   "source": [
    "import numpy as np"
   ]
  },
  {
   "cell_type": "code",
   "execution_count": 17,
   "metadata": {},
   "outputs": [],
   "source": [
    "# Replacing 0 values \n",
    "df.Glucose = df.Glucose.replace(0,np.nan)\n",
    "df.BloodPressure = df.BloodPressure.replace(0,np.nan)\n",
    "df.SkinThickness = df.SkinThickness.replace(0,np.nan)\n",
    "df.Insulin = df.Insulin.replace(0,np.nan)\n",
    "df.BMI = df.BMI.replace(0,np.nan)"
   ]
  },
  {
   "cell_type": "code",
   "execution_count": 18,
   "metadata": {},
   "outputs": [
    {
     "name": "stdout",
     "output_type": "stream",
     "text": [
      "Number of rows with 0 values for each variable\n",
      "Pregnancies: 111\n",
      "Glucose: 0\n",
      "BloodPressure: 0\n",
      "SkinThickness: 0\n",
      "Insulin: 0\n",
      "BMI: 0\n",
      "DiabetesPedigreeFunction: 0\n",
      "Age: 0\n",
      "Outcome: 500\n"
     ]
    }
   ],
   "source": [
    "print('Number of rows with 0 values for each variable')\n",
    "for col in df.columns:\n",
    "    missing_rows = df.loc[df[col]==0].shape[0]\n",
    "    print(col+\": \"+str(missing_rows))"
   ]
  },
  {
   "cell_type": "code",
   "execution_count": 19,
   "metadata": {},
   "outputs": [],
   "source": [
    "# Fill missing values with column means\n",
    "df.Glucose = df.Glucose.fillna(df.Glucose.mean())\n",
    "df.BloodPressure = df.BloodPressure.fillna(df.BloodPressure.mean())\n",
    "df.SkinThickness = df.SkinThickness.fillna(df.SkinThickness.mean())\n",
    "df.Insulin = df.Insulin.fillna(df.Insulin.mean())\n",
    "df.BMI = df.BMI.fillna(df.BMI.mean())"
   ]
  },
  {
   "cell_type": "code",
   "execution_count": 20,
   "metadata": {},
   "outputs": [],
   "source": [
    "# Standardize the data with scaling\n",
    "from sklearn import preprocessing"
   ]
  },
  {
   "cell_type": "code",
   "execution_count": 21,
   "metadata": {},
   "outputs": [],
   "source": [
    "df_scaled = preprocessing.scale(df)"
   ]
  },
  {
   "cell_type": "code",
   "execution_count": 23,
   "metadata": {},
   "outputs": [],
   "source": [
    "# df needs to be converted back to pandas dataframe\n",
    "df_scaled = pd.DataFrame(df_scaled, columns = df.columns)"
   ]
  },
  {
   "cell_type": "code",
   "execution_count": 24,
   "metadata": {},
   "outputs": [],
   "source": [
    "# Outcome should not be scaled as it is a binary classification\n",
    "df_scaled['Outcome'] = df['Outcome']\n",
    "df = df_scaled"
   ]
  },
  {
   "cell_type": "code",
   "execution_count": 25,
   "metadata": {},
   "outputs": [
    {
     "data": {
      "text/html": [
       "<div>\n",
       "<style scoped>\n",
       "    .dataframe tbody tr th:only-of-type {\n",
       "        vertical-align: middle;\n",
       "    }\n",
       "\n",
       "    .dataframe tbody tr th {\n",
       "        vertical-align: top;\n",
       "    }\n",
       "\n",
       "    .dataframe thead th {\n",
       "        text-align: right;\n",
       "    }\n",
       "</style>\n",
       "<table border=\"1\" class=\"dataframe\">\n",
       "  <thead>\n",
       "    <tr style=\"text-align: right;\">\n",
       "      <th></th>\n",
       "      <th>Pregnancies</th>\n",
       "      <th>Glucose</th>\n",
       "      <th>BloodPressure</th>\n",
       "      <th>SkinThickness</th>\n",
       "      <th>Insulin</th>\n",
       "      <th>BMI</th>\n",
       "      <th>DiabetesPedigreeFunction</th>\n",
       "      <th>Age</th>\n",
       "      <th>Outcome</th>\n",
       "    </tr>\n",
       "  </thead>\n",
       "  <tbody>\n",
       "    <tr>\n",
       "      <th>mean</th>\n",
       "      <td>0.00</td>\n",
       "      <td>0.00</td>\n",
       "      <td>0.0</td>\n",
       "      <td>0.00</td>\n",
       "      <td>0.00</td>\n",
       "      <td>0.00</td>\n",
       "      <td>0.00</td>\n",
       "      <td>0.00</td>\n",
       "      <td>0.35</td>\n",
       "    </tr>\n",
       "    <tr>\n",
       "      <th>std</th>\n",
       "      <td>1.00</td>\n",
       "      <td>1.00</td>\n",
       "      <td>1.0</td>\n",
       "      <td>1.00</td>\n",
       "      <td>1.00</td>\n",
       "      <td>1.00</td>\n",
       "      <td>1.00</td>\n",
       "      <td>1.00</td>\n",
       "      <td>0.48</td>\n",
       "    </tr>\n",
       "    <tr>\n",
       "      <th>max</th>\n",
       "      <td>3.91</td>\n",
       "      <td>2.54</td>\n",
       "      <td>4.1</td>\n",
       "      <td>7.95</td>\n",
       "      <td>8.13</td>\n",
       "      <td>5.04</td>\n",
       "      <td>5.88</td>\n",
       "      <td>4.06</td>\n",
       "      <td>1.00</td>\n",
       "    </tr>\n",
       "  </tbody>\n",
       "</table>\n",
       "</div>"
      ],
      "text/plain": [
       "      Pregnancies  Glucose  BloodPressure  SkinThickness  Insulin   BMI  \\\n",
       "mean         0.00     0.00            0.0           0.00     0.00  0.00   \n",
       "std          1.00     1.00            1.0           1.00     1.00  1.00   \n",
       "max          3.91     2.54            4.1           7.95     8.13  5.04   \n",
       "\n",
       "      DiabetesPedigreeFunction   Age  Outcome  \n",
       "mean                      0.00  0.00     0.35  \n",
       "std                       1.00  1.00     0.48  \n",
       "max                       5.88  4.06     1.00  "
      ]
     },
     "execution_count": 25,
     "metadata": {},
     "output_type": "execute_result"
    }
   ],
   "source": [
    "# mean, stdev, and max of transformed variables\n",
    "df.describe().loc[['mean','std','max'],].round(2).abs()"
   ]
  },
  {
   "cell_type": "code",
   "execution_count": 27,
   "metadata": {},
   "outputs": [],
   "source": [
    "# Train, test, split\n",
    "from sklearn.model_selection import train_test_split"
   ]
  },
  {
   "cell_type": "code",
   "execution_count": 28,
   "metadata": {},
   "outputs": [],
   "source": [
    "X=df.loc[:,df.columns!='Outcome']\n",
    "y=df.loc[:,'Outcome']"
   ]
  },
  {
   "cell_type": "code",
   "execution_count": 29,
   "metadata": {},
   "outputs": [],
   "source": [
    "X_train,X_test,y_train,y_test=train_test_split(X,y,test_size=0.2)"
   ]
  },
  {
   "cell_type": "code",
   "execution_count": 30,
   "metadata": {},
   "outputs": [],
   "source": [
    "X_train,X_val,y_train,y_val=train_test_split(X_train,y_train,test_size = 0.2)"
   ]
  },
  {
   "cell_type": "markdown",
   "metadata": {},
   "source": [
    "### Model Building with Keras"
   ]
  },
  {
   "cell_type": "code",
   "execution_count": 31,
   "metadata": {
    "collapsed": true
   },
   "outputs": [
    {
     "name": "stderr",
     "output_type": "stream",
     "text": [
      "Using TensorFlow backend.\n",
      "C:\\Users\\mmsub\\Anaconda3\\envs\\learn-env\\lib\\site-packages\\tensorflow\\python\\framework\\dtypes.py:526: FutureWarning: Passing (type, 1) or '1type' as a synonym of type is deprecated; in a future version of numpy, it will be understood as (type, (1,)) / '(1,)type'.\n",
      "  _np_qint8 = np.dtype([(\"qint8\", np.int8, 1)])\n",
      "C:\\Users\\mmsub\\Anaconda3\\envs\\learn-env\\lib\\site-packages\\tensorflow\\python\\framework\\dtypes.py:527: FutureWarning: Passing (type, 1) or '1type' as a synonym of type is deprecated; in a future version of numpy, it will be understood as (type, (1,)) / '(1,)type'.\n",
      "  _np_quint8 = np.dtype([(\"quint8\", np.uint8, 1)])\n",
      "C:\\Users\\mmsub\\Anaconda3\\envs\\learn-env\\lib\\site-packages\\tensorflow\\python\\framework\\dtypes.py:528: FutureWarning: Passing (type, 1) or '1type' as a synonym of type is deprecated; in a future version of numpy, it will be understood as (type, (1,)) / '(1,)type'.\n",
      "  _np_qint16 = np.dtype([(\"qint16\", np.int16, 1)])\n",
      "C:\\Users\\mmsub\\Anaconda3\\envs\\learn-env\\lib\\site-packages\\tensorflow\\python\\framework\\dtypes.py:529: FutureWarning: Passing (type, 1) or '1type' as a synonym of type is deprecated; in a future version of numpy, it will be understood as (type, (1,)) / '(1,)type'.\n",
      "  _np_quint16 = np.dtype([(\"quint16\", np.uint16, 1)])\n",
      "C:\\Users\\mmsub\\Anaconda3\\envs\\learn-env\\lib\\site-packages\\tensorflow\\python\\framework\\dtypes.py:530: FutureWarning: Passing (type, 1) or '1type' as a synonym of type is deprecated; in a future version of numpy, it will be understood as (type, (1,)) / '(1,)type'.\n",
      "  _np_qint32 = np.dtype([(\"qint32\", np.int32, 1)])\n",
      "C:\\Users\\mmsub\\Anaconda3\\envs\\learn-env\\lib\\site-packages\\tensorflow\\python\\framework\\dtypes.py:535: FutureWarning: Passing (type, 1) or '1type' as a synonym of type is deprecated; in a future version of numpy, it will be understood as (type, (1,)) / '(1,)type'.\n",
      "  np_resource = np.dtype([(\"resource\", np.ubyte, 1)])\n"
     ]
    }
   ],
   "source": [
    "from keras.models import Sequential\n",
    "model = Sequential()"
   ]
  },
  {
   "cell_type": "code",
   "execution_count": 32,
   "metadata": {},
   "outputs": [],
   "source": [
    "from keras.layers import Dense"
   ]
  },
  {
   "cell_type": "code",
   "execution_count": 33,
   "metadata": {},
   "outputs": [
    {
     "name": "stdout",
     "output_type": "stream",
     "text": [
      "WARNING:tensorflow:From C:\\Users\\mmsub\\Anaconda3\\envs\\learn-env\\lib\\site-packages\\tensorflow\\python\\ops\\resource_variable_ops.py:435: colocate_with (from tensorflow.python.framework.ops) is deprecated and will be removed in a future version.\n",
      "Instructions for updating:\n",
      "Colocations handled automatically by placer.\n"
     ]
    }
   ],
   "source": [
    "# add first hidden layer\n",
    "model.add(Dense(32,activation='relu',input_dim=8))"
   ]
  },
  {
   "cell_type": "code",
   "execution_count": 34,
   "metadata": {},
   "outputs": [],
   "source": [
    "# Second hidden layer\n",
    "model.add(Dense(16,activation='relu'))"
   ]
  },
  {
   "cell_type": "code",
   "execution_count": 36,
   "metadata": {},
   "outputs": [],
   "source": [
    "# Output layer\n",
    "model.add(Dense(1,activation='sigmoid'))"
   ]
  },
  {
   "cell_type": "code",
   "execution_count": 37,
   "metadata": {},
   "outputs": [],
   "source": [
    "# Compile the model\n",
    "model.compile(optimizer='adam', loss='binary_crossentropy',metrics=['accuracy'])"
   ]
  },
  {
   "cell_type": "code",
   "execution_count": 38,
   "metadata": {},
   "outputs": [
    {
     "name": "stdout",
     "output_type": "stream",
     "text": [
      "WARNING:tensorflow:From C:\\Users\\mmsub\\Anaconda3\\envs\\learn-env\\lib\\site-packages\\tensorflow\\python\\ops\\math_ops.py:3066: to_int32 (from tensorflow.python.ops.math_ops) is deprecated and will be removed in a future version.\n",
      "Instructions for updating:\n",
      "Use tf.cast instead.\n",
      "Epoch 1/200\n",
      "491/491 [==============================] - 2s 3ms/step - loss: 0.6517 - accuracy: 0.6375\n",
      "Epoch 2/200\n",
      "491/491 [==============================] - 0s 285us/step - loss: 0.5977 - accuracy: 0.7210\n",
      "Epoch 3/200\n",
      "491/491 [==============================] - 0s 227us/step - loss: 0.5591 - accuracy: 0.7637\n",
      "Epoch 4/200\n",
      "491/491 [==============================] - 0s 337us/step - loss: 0.5302 - accuracy: 0.7678\n",
      "Epoch 5/200\n",
      "491/491 [==============================] - 0s 258us/step - loss: 0.5088 - accuracy: 0.7719\n",
      "Epoch 6/200\n",
      "491/491 [==============================] - 0s 311us/step - loss: 0.4909 - accuracy: 0.7699\n",
      "Epoch 7/200\n",
      "491/491 [==============================] - 0s 211us/step - loss: 0.4781 - accuracy: 0.7760\n",
      "Epoch 8/200\n",
      "491/491 [==============================] - 0s 214us/step - loss: 0.4686 - accuracy: 0.7800\n",
      "Epoch 9/200\n",
      "491/491 [==============================] - 0s 292us/step - loss: 0.4599 - accuracy: 0.7800\n",
      "Epoch 10/200\n",
      "491/491 [==============================] - 0s 207us/step - loss: 0.4531 - accuracy: 0.7760\n",
      "Epoch 11/200\n",
      "491/491 [==============================] - 0s 199us/step - loss: 0.4479 - accuracy: 0.7760\n",
      "Epoch 12/200\n",
      "491/491 [==============================] - 0s 177us/step - loss: 0.4433 - accuracy: 0.7760\n",
      "Epoch 13/200\n",
      "491/491 [==============================] - 0s 189us/step - loss: 0.4395 - accuracy: 0.7760\n",
      "Epoch 14/200\n",
      "491/491 [==============================] - 0s 209us/step - loss: 0.4352 - accuracy: 0.7780\n",
      "Epoch 15/200\n",
      "491/491 [==============================] - 0s 183us/step - loss: 0.4316 - accuracy: 0.78210s - loss: 0.4420 - accuracy: 0.78\n",
      "Epoch 16/200\n",
      "491/491 [==============================] - 0s 162us/step - loss: 0.4289 - accuracy: 0.7902\n",
      "Epoch 17/200\n",
      "491/491 [==============================] - 0s 158us/step - loss: 0.4254 - accuracy: 0.7821\n",
      "Epoch 18/200\n",
      "491/491 [==============================] - 0s 150us/step - loss: 0.4230 - accuracy: 0.7862\n",
      "Epoch 19/200\n",
      "491/491 [==============================] - 0s 177us/step - loss: 0.4199 - accuracy: 0.7943\n",
      "Epoch 20/200\n",
      "491/491 [==============================] - 0s 140us/step - loss: 0.4175 - accuracy: 0.7882\n",
      "Epoch 21/200\n",
      "491/491 [==============================] - 0s 178us/step - loss: 0.4161 - accuracy: 0.7882\n",
      "Epoch 22/200\n",
      "491/491 [==============================] - 0s 148us/step - loss: 0.4133 - accuracy: 0.7923\n",
      "Epoch 23/200\n",
      "491/491 [==============================] - 0s 138us/step - loss: 0.4126 - accuracy: 0.7943\n",
      "Epoch 24/200\n",
      "491/491 [==============================] - 0s 109us/step - loss: 0.4101 - accuracy: 0.7984\n",
      "Epoch 25/200\n",
      "491/491 [==============================] - 0s 142us/step - loss: 0.4085 - accuracy: 0.7963\n",
      "Epoch 26/200\n",
      "491/491 [==============================] - 0s 147us/step - loss: 0.4056 - accuracy: 0.7984\n",
      "Epoch 27/200\n",
      "491/491 [==============================] - 0s 150us/step - loss: 0.4048 - accuracy: 0.8024\n",
      "Epoch 28/200\n",
      "491/491 [==============================] - 0s 176us/step - loss: 0.4023 - accuracy: 0.8086\n",
      "Epoch 29/200\n",
      "491/491 [==============================] - 0s 97us/step - loss: 0.4007 - accuracy: 0.8065\n",
      "Epoch 30/200\n",
      "491/491 [==============================] - 0s 130us/step - loss: 0.3988 - accuracy: 0.8106\n",
      "Epoch 31/200\n",
      "491/491 [==============================] - 0s 110us/step - loss: 0.3970 - accuracy: 0.8126\n",
      "Epoch 32/200\n",
      "491/491 [==============================] - 0s 132us/step - loss: 0.3959 - accuracy: 0.8106\n",
      "Epoch 33/200\n",
      "491/491 [==============================] - 0s 108us/step - loss: 0.3946 - accuracy: 0.8126\n",
      "Epoch 34/200\n",
      "491/491 [==============================] - 0s 97us/step - loss: 0.3939 - accuracy: 0.8147\n",
      "Epoch 35/200\n",
      "491/491 [==============================] - 0s 87us/step - loss: 0.3911 - accuracy: 0.8187\n",
      "Epoch 36/200\n",
      "491/491 [==============================] - ETA: 0s - loss: 0.3770 - accuracy: 0.81 - 0s 136us/step - loss: 0.3903 - accuracy: 0.8147\n",
      "Epoch 37/200\n",
      "491/491 [==============================] - 0s 100us/step - loss: 0.3886 - accuracy: 0.8208\n",
      "Epoch 38/200\n",
      "491/491 [==============================] - 0s 140us/step - loss: 0.3863 - accuracy: 0.8228\n",
      "Epoch 39/200\n",
      "491/491 [==============================] - 0s 104us/step - loss: 0.3853 - accuracy: 0.8248\n",
      "Epoch 40/200\n",
      "491/491 [==============================] - 0s 81us/step - loss: 0.3843 - accuracy: 0.8248\n",
      "Epoch 41/200\n",
      "491/491 [==============================] - 0s 100us/step - loss: 0.3822 - accuracy: 0.8187\n",
      "Epoch 42/200\n",
      "491/491 [==============================] - 0s 106us/step - loss: 0.3820 - accuracy: 0.8248\n",
      "Epoch 43/200\n",
      "491/491 [==============================] - 0s 116us/step - loss: 0.3824 - accuracy: 0.8289\n",
      "Epoch 44/200\n",
      "491/491 [==============================] - 0s 138us/step - loss: 0.3785 - accuracy: 0.8330\n",
      "Epoch 45/200\n",
      "491/491 [==============================] - 0s 93us/step - loss: 0.3765 - accuracy: 0.8310\n",
      "Epoch 46/200\n",
      "491/491 [==============================] - 0s 98us/step - loss: 0.3753 - accuracy: 0.8289\n",
      "Epoch 47/200\n",
      "491/491 [==============================] - 0s 97us/step - loss: 0.3739 - accuracy: 0.8330\n",
      "Epoch 48/200\n",
      "491/491 [==============================] - 0s 106us/step - loss: 0.3734 - accuracy: 0.8330\n",
      "Epoch 49/200\n",
      "491/491 [==============================] - 0s 88us/step - loss: 0.3715 - accuracy: 0.8371\n",
      "Epoch 50/200\n",
      "491/491 [==============================] - 0s 89us/step - loss: 0.3697 - accuracy: 0.8391\n",
      "Epoch 51/200\n",
      "491/491 [==============================] - 0s 75us/step - loss: 0.3681 - accuracy: 0.8371\n",
      "Epoch 52/200\n",
      "491/491 [==============================] - 0s 108us/step - loss: 0.3667 - accuracy: 0.8411\n",
      "Epoch 53/200\n",
      "491/491 [==============================] - 0s 83us/step - loss: 0.3655 - accuracy: 0.8411\n",
      "Epoch 54/200\n",
      "491/491 [==============================] - 0s 79us/step - loss: 0.3646 - accuracy: 0.8391\n",
      "Epoch 55/200\n",
      "491/491 [==============================] - 0s 91us/step - loss: 0.3625 - accuracy: 0.8350\n",
      "Epoch 56/200\n",
      "491/491 [==============================] - 0s 102us/step - loss: 0.3632 - accuracy: 0.8391\n",
      "Epoch 57/200\n",
      "491/491 [==============================] - 0s 81us/step - loss: 0.3610 - accuracy: 0.8391\n",
      "Epoch 58/200\n",
      "491/491 [==============================] - 0s 71us/step - loss: 0.3586 - accuracy: 0.8330\n",
      "Epoch 59/200\n",
      "491/491 [==============================] - 0s 70us/step - loss: 0.3576 - accuracy: 0.8411\n",
      "Epoch 60/200\n",
      "491/491 [==============================] - 0s 91us/step - loss: 0.3559 - accuracy: 0.8411\n",
      "Epoch 61/200\n",
      "491/491 [==============================] - 0s 84us/step - loss: 0.3543 - accuracy: 0.8432\n",
      "Epoch 62/200\n",
      "491/491 [==============================] - 0s 230us/step - loss: 0.3530 - accuracy: 0.8371\n",
      "Epoch 63/200\n",
      "491/491 [==============================] - 0s 93us/step - loss: 0.3519 - accuracy: 0.8411\n",
      "Epoch 64/200\n",
      "491/491 [==============================] - 0s 104us/step - loss: 0.3512 - accuracy: 0.8391\n",
      "Epoch 65/200\n",
      "491/491 [==============================] - 0s 140us/step - loss: 0.3493 - accuracy: 0.8411\n",
      "Epoch 66/200\n",
      "491/491 [==============================] - 0s 81us/step - loss: 0.3479 - accuracy: 0.8371\n",
      "Epoch 67/200\n",
      "491/491 [==============================] - 0s 104us/step - loss: 0.3474 - accuracy: 0.8371\n",
      "Epoch 68/200\n",
      "491/491 [==============================] - 0s 77us/step - loss: 0.3453 - accuracy: 0.8391\n",
      "Epoch 69/200\n",
      "491/491 [==============================] - 0s 91us/step - loss: 0.3440 - accuracy: 0.8411\n",
      "Epoch 70/200\n",
      "491/491 [==============================] - 0s 107us/step - loss: 0.3428 - accuracy: 0.8391\n",
      "Epoch 71/200\n",
      "491/491 [==============================] - 0s 91us/step - loss: 0.3421 - accuracy: 0.8350\n",
      "Epoch 72/200\n",
      "491/491 [==============================] - 0s 97us/step - loss: 0.3408 - accuracy: 0.8432\n",
      "Epoch 73/200\n",
      "491/491 [==============================] - 0s 114us/step - loss: 0.3395 - accuracy: 0.8391\n",
      "Epoch 74/200\n",
      "491/491 [==============================] - 0s 83us/step - loss: 0.3378 - accuracy: 0.8432\n",
      "Epoch 75/200\n",
      "491/491 [==============================] - 0s 75us/step - loss: 0.3370 - accuracy: 0.8473\n",
      "Epoch 76/200\n"
     ]
    },
    {
     "name": "stdout",
     "output_type": "stream",
     "text": [
      "491/491 [==============================] - 0s 91us/step - loss: 0.3368 - accuracy: 0.8473\n",
      "Epoch 77/200\n",
      "491/491 [==============================] - 0s 154us/step - loss: 0.3352 - accuracy: 0.8473\n",
      "Epoch 78/200\n",
      "491/491 [==============================] - 0s 102us/step - loss: 0.3340 - accuracy: 0.8493\n",
      "Epoch 79/200\n",
      "491/491 [==============================] - 0s 71us/step - loss: 0.3315 - accuracy: 0.8493\n",
      "Epoch 80/200\n",
      "491/491 [==============================] - 0s 106us/step - loss: 0.3313 - accuracy: 0.8493\n",
      "Epoch 81/200\n",
      "491/491 [==============================] - 0s 69us/step - loss: 0.3298 - accuracy: 0.8473\n",
      "Epoch 82/200\n",
      "491/491 [==============================] - 0s 104us/step - loss: 0.3290 - accuracy: 0.8473\n",
      "Epoch 83/200\n",
      "491/491 [==============================] - 0s 75us/step - loss: 0.3283 - accuracy: 0.8513\n",
      "Epoch 84/200\n",
      "491/491 [==============================] - 0s 110us/step - loss: 0.3268 - accuracy: 0.8513\n",
      "Epoch 85/200\n",
      "491/491 [==============================] - 0s 106us/step - loss: 0.3261 - accuracy: 0.8473\n",
      "Epoch 86/200\n",
      "491/491 [==============================] - 0s 80us/step - loss: 0.3241 - accuracy: 0.8513\n",
      "Epoch 87/200\n",
      "491/491 [==============================] - 0s 63us/step - loss: 0.3258 - accuracy: 0.8493\n",
      "Epoch 88/200\n",
      "491/491 [==============================] - 0s 81us/step - loss: 0.3227 - accuracy: 0.8574\n",
      "Epoch 89/200\n",
      "491/491 [==============================] - 0s 86us/step - loss: 0.3219 - accuracy: 0.8554\n",
      "Epoch 90/200\n",
      "491/491 [==============================] - 0s 67us/step - loss: 0.3199 - accuracy: 0.8513\n",
      "Epoch 91/200\n",
      "491/491 [==============================] - 0s 81us/step - loss: 0.3204 - accuracy: 0.8574\n",
      "Epoch 92/200\n",
      "491/491 [==============================] - 0s 92us/step - loss: 0.3179 - accuracy: 0.8554\n",
      "Epoch 93/200\n",
      "491/491 [==============================] - 0s 65us/step - loss: 0.3165 - accuracy: 0.8595\n",
      "Epoch 94/200\n",
      "491/491 [==============================] - 0s 73us/step - loss: 0.3151 - accuracy: 0.8595\n",
      "Epoch 95/200\n",
      "491/491 [==============================] - 0s 65us/step - loss: 0.3142 - accuracy: 0.8554\n",
      "Epoch 96/200\n",
      "491/491 [==============================] - 0s 73us/step - loss: 0.3130 - accuracy: 0.8534\n",
      "Epoch 97/200\n",
      "491/491 [==============================] - 0s 88us/step - loss: 0.3125 - accuracy: 0.8554\n",
      "Epoch 98/200\n",
      "491/491 [==============================] - 0s 138us/step - loss: 0.3109 - accuracy: 0.8595\n",
      "Epoch 99/200\n",
      "491/491 [==============================] - 0s 106us/step - loss: 0.3093 - accuracy: 0.8615\n",
      "Epoch 100/200\n",
      "491/491 [==============================] - 0s 81us/step - loss: 0.3087 - accuracy: 0.8534\n",
      "Epoch 101/200\n",
      "491/491 [==============================] - 0s 67us/step - loss: 0.3068 - accuracy: 0.8595\n",
      "Epoch 102/200\n",
      "491/491 [==============================] - 0s 77us/step - loss: 0.3059 - accuracy: 0.8656\n",
      "Epoch 103/200\n",
      "491/491 [==============================] - 0s 85us/step - loss: 0.3051 - accuracy: 0.8676\n",
      "Epoch 104/200\n",
      "491/491 [==============================] - 0s 67us/step - loss: 0.3040 - accuracy: 0.8615\n",
      "Epoch 105/200\n",
      "491/491 [==============================] - 0s 75us/step - loss: 0.3023 - accuracy: 0.8635\n",
      "Epoch 106/200\n",
      "491/491 [==============================] - 0s 69us/step - loss: 0.3014 - accuracy: 0.8676\n",
      "Epoch 107/200\n",
      "491/491 [==============================] - 0s 65us/step - loss: 0.3025 - accuracy: 0.8635\n",
      "Epoch 108/200\n",
      "491/491 [==============================] - 0s 71us/step - loss: 0.3003 - accuracy: 0.8697\n",
      "Epoch 109/200\n",
      "491/491 [==============================] - 0s 65us/step - loss: 0.2978 - accuracy: 0.8676\n",
      "Epoch 110/200\n",
      "491/491 [==============================] - 0s 63us/step - loss: 0.2965 - accuracy: 0.8676\n",
      "Epoch 111/200\n",
      "491/491 [==============================] - 0s 77us/step - loss: 0.2955 - accuracy: 0.8697\n",
      "Epoch 112/200\n",
      "491/491 [==============================] - 0s 77us/step - loss: 0.2946 - accuracy: 0.8717\n",
      "Epoch 113/200\n",
      "491/491 [==============================] - 0s 69us/step - loss: 0.2930 - accuracy: 0.8737\n",
      "Epoch 114/200\n",
      "491/491 [==============================] - 0s 69us/step - loss: 0.2926 - accuracy: 0.8717\n",
      "Epoch 115/200\n",
      "491/491 [==============================] - 0s 73us/step - loss: 0.2911 - accuracy: 0.8697\n",
      "Epoch 116/200\n",
      "491/491 [==============================] - 0s 69us/step - loss: 0.2907 - accuracy: 0.8697\n",
      "Epoch 117/200\n",
      "491/491 [==============================] - 0s 67us/step - loss: 0.2892 - accuracy: 0.8737\n",
      "Epoch 118/200\n",
      "491/491 [==============================] - 0s 77us/step - loss: 0.2877 - accuracy: 0.8758\n",
      "Epoch 119/200\n",
      "491/491 [==============================] - 0s 87us/step - loss: 0.2869 - accuracy: 0.8697\n",
      "Epoch 120/200\n",
      "491/491 [==============================] - 0s 67us/step - loss: 0.2856 - accuracy: 0.8717\n",
      "Epoch 121/200\n",
      "491/491 [==============================] - 0s 67us/step - loss: 0.2846 - accuracy: 0.8737\n",
      "Epoch 122/200\n",
      "491/491 [==============================] - 0s 81us/step - loss: 0.2838 - accuracy: 0.8676\n",
      "Epoch 123/200\n",
      "491/491 [==============================] - 0s 69us/step - loss: 0.2813 - accuracy: 0.8758\n",
      "Epoch 124/200\n",
      "491/491 [==============================] - 0s 69us/step - loss: 0.2814 - accuracy: 0.8778\n",
      "Epoch 125/200\n",
      "491/491 [==============================] - 0s 72us/step - loss: 0.2806 - accuracy: 0.8798\n",
      "Epoch 126/200\n",
      "491/491 [==============================] - 0s 65us/step - loss: 0.2791 - accuracy: 0.8778\n",
      "Epoch 127/200\n",
      "491/491 [==============================] - 0s 80us/step - loss: 0.2781 - accuracy: 0.8819\n",
      "Epoch 128/200\n",
      "491/491 [==============================] - 0s 78us/step - loss: 0.2785 - accuracy: 0.8758\n",
      "Epoch 129/200\n",
      "491/491 [==============================] - 0s 81us/step - loss: 0.2765 - accuracy: 0.8758\n",
      "Epoch 130/200\n",
      "491/491 [==============================] - 0s 95us/step - loss: 0.2744 - accuracy: 0.8758\n",
      "Epoch 131/200\n",
      "491/491 [==============================] - 0s 65us/step - loss: 0.2767 - accuracy: 0.8859\n",
      "Epoch 132/200\n",
      "491/491 [==============================] - 0s 70us/step - loss: 0.2737 - accuracy: 0.8819\n",
      "Epoch 133/200\n",
      "491/491 [==============================] - 0s 75us/step - loss: 0.2725 - accuracy: 0.8778\n",
      "Epoch 134/200\n",
      "491/491 [==============================] - 0s 67us/step - loss: 0.2711 - accuracy: 0.8819\n",
      "Epoch 135/200\n",
      "491/491 [==============================] - 0s 65us/step - loss: 0.2702 - accuracy: 0.8839\n",
      "Epoch 136/200\n",
      "491/491 [==============================] - 0s 65us/step - loss: 0.2692 - accuracy: 0.8880\n",
      "Epoch 137/200\n",
      "491/491 [==============================] - 0s 63us/step - loss: 0.2673 - accuracy: 0.8880\n",
      "Epoch 138/200\n",
      "491/491 [==============================] - 0s 71us/step - loss: 0.2669 - accuracy: 0.8859\n",
      "Epoch 139/200\n",
      "491/491 [==============================] - 0s 73us/step - loss: 0.2652 - accuracy: 0.8839\n",
      "Epoch 140/200\n",
      "491/491 [==============================] - 0s 59us/step - loss: 0.2643 - accuracy: 0.8859\n",
      "Epoch 141/200\n",
      "491/491 [==============================] - 0s 75us/step - loss: 0.2649 - accuracy: 0.8880\n",
      "Epoch 142/200\n",
      "491/491 [==============================] - 0s 75us/step - loss: 0.2633 - accuracy: 0.8839\n",
      "Epoch 143/200\n",
      "491/491 [==============================] - 0s 67us/step - loss: 0.2630 - accuracy: 0.8839\n",
      "Epoch 144/200\n",
      "491/491 [==============================] - 0s 65us/step - loss: 0.2603 - accuracy: 0.8900\n",
      "Epoch 145/200\n",
      "491/491 [==============================] - 0s 104us/step - loss: 0.2598 - accuracy: 0.8880\n",
      "Epoch 146/200\n",
      "491/491 [==============================] - 0s 75us/step - loss: 0.2586 - accuracy: 0.8921\n",
      "Epoch 147/200\n",
      "491/491 [==============================] - 0s 63us/step - loss: 0.2586 - accuracy: 0.8819\n",
      "Epoch 148/200\n",
      "491/491 [==============================] - 0s 75us/step - loss: 0.2572 - accuracy: 0.8921\n",
      "Epoch 149/200\n",
      "491/491 [==============================] - 0s 77us/step - loss: 0.2555 - accuracy: 0.8921\n",
      "Epoch 150/200\n",
      "491/491 [==============================] - 0s 75us/step - loss: 0.2549 - accuracy: 0.8880\n",
      "Epoch 151/200\n",
      "491/491 [==============================] - 0s 59us/step - loss: 0.2540 - accuracy: 0.8880\n",
      "Epoch 152/200\n",
      "491/491 [==============================] - 0s 73us/step - loss: 0.2528 - accuracy: 0.8880\n",
      "Epoch 153/200\n",
      "491/491 [==============================] - 0s 75us/step - loss: 0.2515 - accuracy: 0.8941\n",
      "Epoch 154/200\n",
      "491/491 [==============================] - 0s 72us/step - loss: 0.2516 - accuracy: 0.8880\n",
      "Epoch 155/200\n"
     ]
    },
    {
     "name": "stdout",
     "output_type": "stream",
     "text": [
      "491/491 [==============================] - 0s 57us/step - loss: 0.2492 - accuracy: 0.8921\n",
      "Epoch 156/200\n",
      "491/491 [==============================] - 0s 81us/step - loss: 0.2483 - accuracy: 0.8900\n",
      "Epoch 157/200\n",
      "491/491 [==============================] - 0s 71us/step - loss: 0.2489 - accuracy: 0.8900\n",
      "Epoch 158/200\n",
      "491/491 [==============================] - 0s 68us/step - loss: 0.2468 - accuracy: 0.8921\n",
      "Epoch 159/200\n",
      "491/491 [==============================] - 0s 71us/step - loss: 0.2477 - accuracy: 0.8961\n",
      "Epoch 160/200\n",
      "491/491 [==============================] - 0s 72us/step - loss: 0.2442 - accuracy: 0.8982\n",
      "Epoch 161/200\n",
      "491/491 [==============================] - 0s 100us/step - loss: 0.2453 - accuracy: 0.8941\n",
      "Epoch 162/200\n",
      "491/491 [==============================] - 0s 68us/step - loss: 0.2425 - accuracy: 0.8921\n",
      "Epoch 163/200\n",
      "491/491 [==============================] - 0s 75us/step - loss: 0.2417 - accuracy: 0.8961\n",
      "Epoch 164/200\n",
      "491/491 [==============================] - 0s 69us/step - loss: 0.2405 - accuracy: 0.8961\n",
      "Epoch 165/200\n",
      "491/491 [==============================] - 0s 64us/step - loss: 0.2415 - accuracy: 0.8880\n",
      "Epoch 166/200\n",
      "491/491 [==============================] - 0s 59us/step - loss: 0.2402 - accuracy: 0.9022\n",
      "Epoch 167/200\n",
      "491/491 [==============================] - 0s 63us/step - loss: 0.2368 - accuracy: 0.8961\n",
      "Epoch 168/200\n",
      "491/491 [==============================] - 0s 75us/step - loss: 0.2385 - accuracy: 0.8921\n",
      "Epoch 169/200\n",
      "491/491 [==============================] - 0s 75us/step - loss: 0.2354 - accuracy: 0.8982\n",
      "Epoch 170/200\n",
      "491/491 [==============================] - 0s 57us/step - loss: 0.2352 - accuracy: 0.9002\n",
      "Epoch 171/200\n",
      "491/491 [==============================] - 0s 67us/step - loss: 0.2346 - accuracy: 0.8961\n",
      "Epoch 172/200\n",
      "491/491 [==============================] - 0s 73us/step - loss: 0.2325 - accuracy: 0.9022\n",
      "Epoch 173/200\n",
      "491/491 [==============================] - 0s 67us/step - loss: 0.2316 - accuracy: 0.8982\n",
      "Epoch 174/200\n",
      "491/491 [==============================] - 0s 71us/step - loss: 0.2302 - accuracy: 0.9022\n",
      "Epoch 175/200\n",
      "491/491 [==============================] - 0s 63us/step - loss: 0.2308 - accuracy: 0.8941\n",
      "Epoch 176/200\n",
      "491/491 [==============================] - 0s 77us/step - loss: 0.2284 - accuracy: 0.9022\n",
      "Epoch 177/200\n",
      "491/491 [==============================] - 0s 93us/step - loss: 0.2280 - accuracy: 0.9022\n",
      "Epoch 178/200\n",
      "491/491 [==============================] - 0s 77us/step - loss: 0.2282 - accuracy: 0.9043\n",
      "Epoch 179/200\n",
      "491/491 [==============================] - ETA: 0s - loss: 0.2307 - accuracy: 0.87 - 0s 67us/step - loss: 0.2253 - accuracy: 0.9022\n",
      "Epoch 180/200\n",
      "491/491 [==============================] - 0s 91us/step - loss: 0.2267 - accuracy: 0.9022\n",
      "Epoch 181/200\n",
      "491/491 [==============================] - 0s 71us/step - loss: 0.2231 - accuracy: 0.9002\n",
      "Epoch 182/200\n",
      "491/491 [==============================] - 0s 69us/step - loss: 0.2233 - accuracy: 0.9022\n",
      "Epoch 183/200\n",
      "491/491 [==============================] - 0s 77us/step - loss: 0.2228 - accuracy: 0.8982\n",
      "Epoch 184/200\n",
      "491/491 [==============================] - 0s 100us/step - loss: 0.2216 - accuracy: 0.9043\n",
      "Epoch 185/200\n",
      "491/491 [==============================] - 0s 110us/step - loss: 0.2199 - accuracy: 0.9043\n",
      "Epoch 186/200\n",
      "491/491 [==============================] - 0s 105us/step - loss: 0.2183 - accuracy: 0.9063\n",
      "Epoch 187/200\n",
      "491/491 [==============================] - 0s 67us/step - loss: 0.2188 - accuracy: 0.9022\n",
      "Epoch 188/200\n",
      "491/491 [==============================] - 0s 63us/step - loss: 0.2167 - accuracy: 0.9043\n",
      "Epoch 189/200\n",
      "491/491 [==============================] - 0s 67us/step - loss: 0.2164 - accuracy: 0.9022\n",
      "Epoch 190/200\n",
      "491/491 [==============================] - 0s 75us/step - loss: 0.2164 - accuracy: 0.9002\n",
      "Epoch 191/200\n",
      "491/491 [==============================] - 0s 91us/step - loss: 0.2136 - accuracy: 0.9043\n",
      "Epoch 192/200\n",
      "491/491 [==============================] - 0s 67us/step - loss: 0.2144 - accuracy: 0.9022\n",
      "Epoch 193/200\n",
      "491/491 [==============================] - 0s 77us/step - loss: 0.2122 - accuracy: 0.9124\n",
      "Epoch 194/200\n",
      "491/491 [==============================] - 0s 83us/step - loss: 0.2124 - accuracy: 0.9043\n",
      "Epoch 195/200\n",
      "491/491 [==============================] - 0s 81us/step - loss: 0.2117 - accuracy: 0.9043\n",
      "Epoch 196/200\n",
      "491/491 [==============================] - 0s 81us/step - loss: 0.2089 - accuracy: 0.9124\n",
      "Epoch 197/200\n",
      "491/491 [==============================] - 0s 140us/step - loss: 0.2083 - accuracy: 0.9022\n",
      "Epoch 198/200\n",
      "491/491 [==============================] - 0s 59us/step - loss: 0.2078 - accuracy: 0.9145\n",
      "Epoch 199/200\n",
      "491/491 [==============================] - 0s 67us/step - loss: 0.2059 - accuracy: 0.9104\n",
      "Epoch 200/200\n",
      "491/491 [==============================] - 0s 77us/step - loss: 0.2057 - accuracy: 0.9165\n"
     ]
    },
    {
     "data": {
      "text/plain": [
       "<keras.callbacks.callbacks.History at 0x20db9982a58>"
      ]
     },
     "execution_count": 38,
     "metadata": {},
     "output_type": "execute_result"
    }
   ],
   "source": [
    "# Training for 200 epochs\n",
    "model.fit(X_train,y_train,epochs=200)"
   ]
  },
  {
   "cell_type": "markdown",
   "metadata": {},
   "source": [
    "### Results Analysis"
   ]
  },
  {
   "cell_type": "code",
   "execution_count": 39,
   "metadata": {},
   "outputs": [
    {
     "name": "stdout",
     "output_type": "stream",
     "text": [
      "491/491 [==============================] - 1s 1ms/step\n",
      "Training Accuracy: 91.45%\n",
      "\n",
      "154/154 [==============================] - 0s 645us/step\n",
      "Testing Accuracy: 79.87%\n",
      "\n"
     ]
    }
   ],
   "source": [
    "# Train and Test accuracy\n",
    "scores = model.evaluate(X_train,y_train)\n",
    "print(\"Training Accuracy: %.2f%%\\n\" % (scores[1]*100))\n",
    "scores = model.evaluate(X_test,y_test)\n",
    "print(\"Testing Accuracy: %.2f%%\\n\" % (scores[1]*100))"
   ]
  },
  {
   "cell_type": "markdown",
   "metadata": {},
   "source": [
    "### Confusion Matrix"
   ]
  },
  {
   "cell_type": "code",
   "execution_count": 40,
   "metadata": {},
   "outputs": [],
   "source": [
    "from sklearn.metrics import confusion_matrix"
   ]
  },
  {
   "cell_type": "code",
   "execution_count": 42,
   "metadata": {},
   "outputs": [
    {
     "data": {
      "image/png": "[encoded data removed]",
      "text/plain": [
       "<Figure size 432x288 with 1 Axes>"
      ]
     },
     "metadata": {
      "needs_background": "light"
     },
     "output_type": "display_data"
    }
   ],
   "source": [
    "y_test_pred = model.predict_classes(X_test)\n",
    "cm = confusion_matrix(y_test,y_test_pred)\n",
    "ax = sns.heatmap(cm, annot=True, xticklabels=[\"No Diabetes\",'Diabetes'], yticklabels=['No Diabetes','Diabetes'],\n",
    "                cbar=False,cmap='Blues')\n",
    "ax.set_xlabel('Prediction')\n",
    "ax.set_ylabel('Actual')\n",
    "plt.show()"
   ]
  },
  {
   "cell_type": "markdown",
   "metadata": {},
   "source": [
    "### ROC Curve"
   ]
  },
  {
   "cell_type": "code",
   "execution_count": 45,
   "metadata": {},
   "outputs": [],
   "source": [
    "from sklearn.metrics import roc_curve\n",
    "import matplotlib.pyplot as plt\n",
    "y_test_pred_probs = model.predict(X_test)"
   ]
  },
  {
   "cell_type": "code",
   "execution_count": 46,
   "metadata": {},
   "outputs": [],
   "source": [
    "FPR, TPR, _ = roc_curve(y_test,y_test_pred_probs)"
   ]
  },
  {
   "cell_type": "code",
   "execution_count": 48,
   "metadata": {},
   "outputs": [
    {
     "data": {
      "text/plain": [
       "Text(0, 0.5, 'True Positive Rate')"
      ]
     },
     "execution_count": 48,
     "metadata": {},
     "output_type": "execute_result"
    },
    {
     "data": {
      "image/png": "[encoded data removed]",
      "text/plain": [
       "<Figure size 432x288 with 1 Axes>"
      ]
     },
     "metadata": {
      "needs_background": "light"
     },
     "output_type": "display_data"
    }
   ],
   "source": [
    "plt.plot(FPR,TPR)\n",
    "plt.plot([0,1],[0,1],'--',color='black')\n",
    "plt.title('ROC Curve')\n",
    "plt.xlabel('False Positive Rate')\n",
    "plt.ylabel('True Positive Rate')"
   ]
  },
  {
   "cell_type": "code",
   "execution_count": null,
   "metadata": {},
   "outputs": [],
   "source": []
  }
 ],
 "metadata": {
  "kernelspec": {
   "display_name": "Python 3",
   "language": "python",
   "name": "python3"
  },
  "language_info": {
   "codemirror_mode": {
    "name": "ipython",
    "version": 3
   },
   "file_extension": ".py",
   "mimetype": "text/x-python",
   "name": "python",
   "nbconvert_exporter": "python",
   "pygments_lexer": "ipython3",
   "version": "3.6.9"
  }
 },
 "nbformat": 4,
 "nbformat_minor": 2
}
